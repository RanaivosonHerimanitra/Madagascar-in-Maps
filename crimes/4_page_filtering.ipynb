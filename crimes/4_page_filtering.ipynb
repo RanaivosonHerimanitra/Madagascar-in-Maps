{
 "cells": [
  {
   "cell_type": "markdown",
   "metadata": {},
   "source": [
    "# Page selection based on keywords of interests"
   ]
  },
  {
   "cell_type": "code",
   "execution_count": 6,
   "metadata": {
    "collapsed": true
   },
   "outputs": [],
   "source": [
    "from itertools import *\n",
    "import httplib\n",
    "import urllib2\n",
    "import random\n",
    "import re\n",
    "import requests\n",
    "from httplib import IncompleteRead\n",
    "import json\n",
    "from bs4 import BeautifulSoup\n",
    "import pandas as pd\n",
    "import numpy as np\n",
    "import os.path\n",
    "import sys  \n",
    "reload(sys)  \n",
    "sys.setdefaultencoding('latin-1')"
   ]
  },
  {
   "cell_type": "markdown",
   "metadata": {},
   "source": [
    "### Load data"
   ]
  },
  {
   "cell_type": "code",
   "execution_count": 7,
   "metadata": {
    "collapsed": true
   },
   "outputs": [],
   "source": [
    "all_page=pd.read_csv(\"data/all_page.csv\",sep=\";\",encoding=\"utf-8\")\n",
    "all_page= list(all_page.link)\n",
    "all_page1=pd.read_csv(\"data/base_links.csv\",sep=\";\",encoding=\"utf-8\")\n",
    "all_page1= list(all_page1.link)\n",
    "keys=pd.read_csv(\"data/keywords.csv\",sep=\",\")\n",
    "mykeywords=\"|\".join(list(keys.kwd))"
   ]
  },
  {
   "cell_type": "markdown",
   "metadata": {},
   "source": [
    "### Police website is special because we need to look at content to know"
   ]
  },
  {
   "cell_type": "code",
   "execution_count": 9,
   "metadata": {
    "collapsed": false
   },
   "outputs": [
    {
     "data": {
      "text/plain": [
       "(1836, 1)"
      ]
     },
     "execution_count": 9,
     "metadata": {},
     "output_type": "execute_result"
    }
   ],
   "source": [
    "#2nd iter\n",
    "X1= [x for x in all_page1 if re.search(mykeywords,x) is not None]\n",
    "#1st iter\n",
    "X2= [x for x in all_page if re.search(mykeywords,x) is not None]\n",
    "X=X1 + X2\n",
    "X=np.unique(X)\n",
    "len(X)\n",
    "df = pd.DataFrame(data=X, index= range(len(X)), columns=['link'])\n",
    "df.to_csv(\"data/potential_crimes.csv\",sep=\";\",encoding=\"utf-8\")\n",
    "df.shape"
   ]
  },
  {
   "cell_type": "code",
   "execution_count": null,
   "metadata": {
    "collapsed": true
   },
   "outputs": [],
   "source": []
  }
 ],
 "metadata": {
  "kernelspec": {
   "display_name": "Python 2",
   "language": "python",
   "name": "python2"
  },
  "language_info": {
   "codemirror_mode": {
    "name": "ipython",
    "version": 2
   },
   "file_extension": ".py",
   "mimetype": "text/x-python",
   "name": "python",
   "nbconvert_exporter": "python",
   "pygments_lexer": "ipython2",
   "version": "2.7.10"
  }
 },
 "nbformat": 4,
 "nbformat_minor": 1
}
