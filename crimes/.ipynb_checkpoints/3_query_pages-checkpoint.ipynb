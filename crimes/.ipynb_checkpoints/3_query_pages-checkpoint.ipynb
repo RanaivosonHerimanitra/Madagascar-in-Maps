{
 "cells": [
  {
   "cell_type": "markdown",
   "metadata": {},
   "source": [
    "#### Libraries I used"
   ]
  },
  {
   "cell_type": "code",
   "execution_count": 11,
   "metadata": {
    "collapsed": true
   },
   "outputs": [],
   "source": [
    "from itertools import *\n",
    "import httplib\n",
    "import urllib2\n",
    "import random\n",
    "import re\n",
    "import requests\n",
    "from httplib import IncompleteRead\n",
    "import json\n",
    "from bs4 import BeautifulSoup\n",
    "import pandas as pd\n",
    "import numpy as np\n",
    "import os.path\n",
    "import sys  \n",
    "reload(sys)  \n",
    "sys.setdefaultencoding('latin-1')"
   ]
  },
  {
   "cell_type": "markdown",
   "metadata": {
    "collapsed": false
   },
   "source": [
    "### Load stored data:"
   ]
  },
  {
   "cell_type": "code",
   "execution_count": 12,
   "metadata": {
    "collapsed": false
   },
   "outputs": [],
   "source": [
    "## load data:\n",
    "site_web=pd.read_csv(\"data/site_web.csv\",sep=\",\",encoding=\"utf-8\")\n",
    "site_web= list(site_web.link)\n",
    "all_page=pd.read_csv(\"data/all_page.csv\",sep=\";\",encoding=\"utf-8\")\n",
    "all_page= list(all_page.link)\n",
    "all_page1=pd.read_csv(\"data/base_links.csv\",sep=\";\",encoding=\"utf-8\")\n",
    "all_page1= list(all_page1.link)"
   ]
  },
  {
   "cell_type": "markdown",
   "metadata": {},
   "source": [
    "## Customized queries for those website"
   ]
  },
  {
   "cell_type": "code",
   "execution_count": 32,
   "metadata": {
    "collapsed": false
   },
   "outputs": [],
   "source": [
    "## query models ##\n",
    "### http://www.midi-madagasikara.mg/year/month/day\n",
    "### http://www.madagascar-tribune.com/spip.php?page=archives&archives=year-month-day\n",
    "### http://www.newsmada.com/year/month/day\n",
    "### http://www.policenationale.gov.mg/?m=201609 (yearmonth)\n",
    "### http://www.population.gov.mg/?m=201204 (yearmonth)\n",
    "### http://www.sobikamada.com/jmj/itemlist/date/2015/09/5.html (year month day)\n",
    "pages= [\"http://www.midi-madagasikara.mg/\",\"http://www.madagascar-tribune.com/spip.php?page=archives&archives=\"]\n",
    "pages += [\"http://www.newsmada.com/\",\"http://www.policenationale.gov.mg/?m=\",\"http://www.population.gov.mg/?m=\"]\n",
    "pages += [\"http://www.sobikamada.com/jmj/itemlist/date/\",\"http://www.gendarmerie.gov.mg/blog/\"]"
   ]
  },
  {
   "cell_type": "markdown",
   "metadata": {},
   "source": [
    "### Prepare query parameters"
   ]
  },
  {
   "cell_type": "code",
   "execution_count": 25,
   "metadata": {
    "collapsed": true
   },
   "outputs": [],
   "source": [
    "years = range(2014,2016)\n",
    "months= [\"01\",\"02\",\"03\",\"04\",\"05\",\"06\",\"07\",\"08\",\"09\",\"10\",\"11\",\"12\"]\n",
    "days= range(1,31)\n",
    "date_combinations = product(years,months,days)"
   ]
  },
  {
   "cell_type": "code",
   "execution_count": 22,
   "metadata": {
    "collapsed": false,
    "scrolled": true
   },
   "outputs": [],
   "source": [
    "def query_pages(url=url,all_page1=all_page1,all_page=all_page,site_web=site_web,append_origin=False,url_origin=None):\n",
    "    try:\n",
    "        if \"pdf\" not in url and \"jpg\" not in url and \"javascript\" not in url:\n",
    "            req = urllib2.Request(url.decode('utf-8'), headers={'User-Agent' : \"Magic Browser\"})\n",
    "            page = urllib2.urlopen( req )\n",
    "        else:\n",
    "            return\n",
    "    except urllib2.HTTPError,e:\n",
    "        print e\n",
    "        return\n",
    "    except urllib2.URLError, e:\n",
    "        print e\n",
    "        return\n",
    "    except httplib.HTTPException, e:\n",
    "        print e\n",
    "        return\n",
    "    except Exception,e:\n",
    "        print e\n",
    "        return\n",
    "    #handle page that does not actually exist\n",
    "    mypage=page.read()\n",
    "    if len(mypage)==0:\n",
    "        print \"the above page does not exist\"\n",
    "    else:\n",
    "        soup = BeautifulSoup(mypage)\n",
    "        #find all links from the current \"page\"\n",
    "        all_links= soup.find_all(\"a\")\n",
    "        #ensure all links are valid\n",
    "        link_inside= [link.get(\"href\") for link in all_links if link.get(\"href\") is not None]\n",
    "        if append_origin==True and url_origin is not None:\n",
    "            link_inside= [ url_origin + x for x in link_inside if 'www.' not in x or 'http://' not in x ]\n",
    "        link_inside= [x for x in link_inside if 'www.' in x or 'http://' in x]\n",
    "        #do not append links from starter links\n",
    "        link_inside = [link for link in link_inside if link not in site_web]\n",
    "        #do not append links from previous records\n",
    "        link_inside = [link for link in link_inside if link not in all_page]\n",
    "        #do not append links in the current records\n",
    "        link_inside = [link for link in link_inside if link not in all_page1]\n",
    "        for k in np.unique(link_inside):\n",
    "            print k, len(all_page1)\n",
    "            all_page1.append(k)\n",
    "        #save on the fly\n",
    "        df = pd.DataFrame(data=all_page1, index= range(len(all_page1)), columns=['link'])\n",
    "        df.to_csv(\"data/base_links.csv\",sep=\";\",encoding=\"utf-8\")\n",
    "        "
   ]
  },
  {
   "cell_type": "markdown",
   "metadata": {},
   "source": [
    "## Queries"
   ]
  },
  {
   "cell_type": "code",
   "execution_count": 38,
   "metadata": {
    "collapsed": false
   },
   "outputs": [],
   "source": [
    "for i,p in enumerate(pages):\n",
    "    if i in [0,2]:\n",
    "        for date in date_combinations:\n",
    "            year,month,day= date\n",
    "            url= p+str(year)+\"/\"+month+\"/\"+str(day)\n",
    "            print url\n",
    "            query_pages(url,all_page1=all_page1,all_page=all_page,site_web=site_web)\n",
    "        date_combinations = product(years,months,days)\n",
    "    elif i==1:\n",
    "        for date in date_combinations:\n",
    "            year,month,day= date\n",
    "            url= p+str(year)+\"-\"+month+\"-\"+str(day)\n",
    "            print url\n",
    "            query_pages(url,all_page1=all_page1,all_page=all_page,site_web=site_web,append_origin=True,url_origin=\"http://www.madagascar-tribune.com/\")\n",
    "        date_combinations = product(years,months,days)\n",
    "    elif i in [3,4]:\n",
    "        for date in date_combinations:\n",
    "            year,month,_= date\n",
    "            url= p+str(year)+month\n",
    "            print url\n",
    "            query_pages(url,all_page1=all_page1,all_page=all_page,site_web=site_web)\n",
    "        date_combinations = product(years,months,days)\n",
    "    elif i ==5:\n",
    "        for date in date_combinations:\n",
    "            year,month,day= date\n",
    "            url= p+str(year)+\"-\"+month+\"-\"+str(day)+\".html\"\n",
    "            print url\n",
    "            query_pages(url,all_page1=all_page1,all_page=all_page,site_web=site_web,append_origin=True,url_origin=\"www.sobikamada.com/\")\n",
    "        date_combinations = product(years,months,days)\n",
    "    elif i ==6:\n",
    "        for date in date_combinations:\n",
    "            year,month,_= date\n",
    "            url= p+str(year)+\"/\"+month\n",
    "            print url\n",
    "            query_pages(url,all_page1=all_page1,all_page=all_page,site_web=site_web)"
   ]
  },
  {
   "cell_type": "markdown",
   "metadata": {
    "collapsed": true
   },
   "source": [
    "## Special treatment for Midi & Tribune because they have archives available"
   ]
  },
  {
   "cell_type": "code",
   "execution_count": 24,
   "metadata": {
    "collapsed": false
   },
   "outputs": [],
   "source": [
    "tribune=\"http://www.madagascar-tribune.com/spip.php?page=archives&debut_articles_recents=\"\n",
    "k=10\n",
    "while k<18650:\n",
    "    url = tribune + str(k) + \"#pagination_articles_recents\"\n",
    "    print k, url\n",
    "    query_pages(url=url,all_page1=all_page1,all_page=all_page,site_web=site_web,append_origin=True, \n",
    "                url_origin=\"http://www.madagascar-tribune.com/\")\n",
    "    k += 10"
   ]
  },
  {
   "cell_type": "code",
   "execution_count": 18,
   "metadata": {
    "collapsed": true
   },
   "outputs": [],
   "source": [
    "midi= \"http://www.midi-madagasikara.mg/2013/\"\n",
    "query_pages(url=midi,all_page1=all_page1,all_page=all_page,site_web=site_web)\n",
    "midi=\"http://www.midi-madagasikara.mg/2013/page/\"\n",
    "k=2\n",
    "while k<127:\n",
    "    url = midi + str(k)\n",
    "    query_pages(url=url,all_page1=all_page1,all_page=all_page,site_web=site_web)\n",
    "    k += 1"
   ]
  }
 ],
 "metadata": {
  "kernelspec": {
   "display_name": "Python 2",
   "language": "python",
   "name": "python2"
  },
  "language_info": {
   "codemirror_mode": {
    "name": "ipython",
    "version": 2
   },
   "file_extension": ".py",
   "mimetype": "text/x-python",
   "name": "python",
   "nbconvert_exporter": "python",
   "pygments_lexer": "ipython2",
   "version": "2.7.10"
  }
 },
 "nbformat": 4,
 "nbformat_minor": 1
}
