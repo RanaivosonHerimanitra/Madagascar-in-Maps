{
 "cells": [
  {
   "cell_type": "code",
   "execution_count": 38,
   "metadata": {
    "collapsed": false
   },
   "outputs": [],
   "source": [
    "from datetime import date\n",
    "from itertools import *\n",
    "import httplib\n",
    "import urllib2\n",
    "import random\n",
    "import re\n",
    "import requests\n",
    "from httplib import IncompleteRead\n",
    "import json\n",
    "from bs4 import BeautifulSoup\n",
    "import pandas as pd\n",
    "import numpy as np\n",
    "import sys  "
   ]
  },
  {
   "cell_type": "code",
   "execution_count": null,
   "metadata": {
    "collapsed": false
   },
   "outputs": [],
   "source": [
    "potential_crimes= pd.read_csv(\"data/potential_crimes_stories.csv\",sep=\";\",encoding=\"utf-8\")\n",
    "code_ocha= pd.read_csv(\"data/code_OCHA.csv\",sep=\",\",encoding=\"utf-8\")\n",
    "potential_crimes.head(100)"
   ]
  },
  {
   "cell_type": "markdown",
   "metadata": {},
   "source": [
    "## Drop NA and reindex:"
   ]
  },
  {
   "cell_type": "code",
   "execution_count": 40,
   "metadata": {
    "collapsed": false
   },
   "outputs": [],
   "source": [
    "potential_crimes= potential_crimes.dropna()\n",
    "potential_crimes.index = range(potential_crimes.shape[0])"
   ]
  },
  {
   "cell_type": "code",
   "execution_count": 41,
   "metadata": {
    "collapsed": false
   },
   "outputs": [],
   "source": [
    "def search_location_in (invar='story',newvar='location',fromvar='FOKONTANY'):\n",
    "    if newvar not in potential_crimes.columns:\n",
    "        potential_crimes[newvar]=''\n",
    "    for x in code_ocha[fromvar]:\n",
    "        #retrieve index\n",
    "        i = [i for i,j in enumerate(potential_crimes[invar]) if x in j and potential_crimes.loc[i,newvar]!=[] ]\n",
    "        if len(i)==1:\n",
    "            #print (x,i ,  potential_crimes.loc[i, invar])\n",
    "            potential_crimes.loc[i, newvar]=x\n",
    "        else:\n",
    "            for i1 in i:\n",
    "                #print (x, i1 ,  potential_crimes.loc[i1,invar])\n",
    "                potential_crimes.loc[i1,newvar]=x"
   ]
  },
  {
   "cell_type": "code",
   "execution_count": null,
   "metadata": {
    "collapsed": false
   },
   "outputs": [],
   "source": [
    "###\n",
    "search_location_in(invar='story',newvar='location_fkt_story',fromvar='FOKONTANY')\n",
    "search_location_in(invar='story',newvar='location_fkt_story',fromvar='FOKONTANY')\n",
    "search_location_in(invar='story',newvar='location_reg_story',fromvar='REGION')\n",
    "search_location_in(invar='story',newvar='location_reg_story',fromvar='REGION')\n",
    "search_location_in(invar='story',newvar='location_com_story',fromvar='COMMUNE')\n",
    "search_location_in(invar='story',newvar='location_com_story',fromvar='COMMUNE')\n",
    "###\n",
    "search_location_in(invar='link',newvar='location_fkt_link',fromvar='FOKONTANY')\n",
    "search_location_in(invar='link',newvar='location_fkt_link',fromvar='FOKONTANY')\n",
    "search_location_in(invar='link',newvar='location_reg_link',fromvar='REGION')\n",
    "search_location_in(invar='link',newvar='location_reg_link',fromvar='REGION')\n",
    "search_location_in(invar='link',newvar='location_com_link',fromvar='COMMUNE')\n",
    "search_location_in(invar='link',newvar='location_com_link',fromvar='COMMUNE')"
   ]
  },
  {
   "cell_type": "code",
   "execution_count": null,
   "metadata": {
    "collapsed": true
   },
   "outputs": [],
   "source": []
  }
 ],
 "metadata": {
  "kernelspec": {
   "display_name": "Python 2",
   "language": "python",
   "name": "python2"
  },
  "language_info": {
   "codemirror_mode": {
    "name": "ipython",
    "version": 2
   },
   "file_extension": ".py",
   "mimetype": "text/x-python",
   "name": "python",
   "nbconvert_exporter": "python",
   "pygments_lexer": "ipython2",
   "version": "2.7.10"
  }
 },
 "nbformat": 4,
 "nbformat_minor": 1
}
