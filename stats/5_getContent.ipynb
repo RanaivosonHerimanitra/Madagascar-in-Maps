{
 "cells": [
  {
   "cell_type": "code",
   "execution_count": 1,
   "metadata": {
    "collapsed": true
   },
   "outputs": [],
   "source": [
    "import httplib\n",
    "import urllib2\n",
    "import random\n",
    "import re\n",
    "import requests\n",
    "from httplib import IncompleteRead\n",
    "import json\n",
    "from bs4 import BeautifulSoup\n",
    "import pandas as pd\n",
    "import numpy as np\n",
    "import sys  "
   ]
  },
  {
   "cell_type": "code",
   "execution_count": null,
   "metadata": {
    "collapsed": true
   },
   "outputs": [],
   "source": [
    "df= pd.read_csv(\"data/potential_crimes.csv\",sep=\";\",encoding=\"utf-8\")"
   ]
  },
  {
   "cell_type": "code",
   "execution_count": null,
   "metadata": {
    "collapsed": false
   },
   "outputs": [
    {
     "name": "stdout",
     "output_type": "stream",
     "text": [
      "0 /cdn-cgi/l/email-protection#e2dd91978088878196dfa183c2818a8397848487c28397c2818d8e8e214a8587c28687c2a18a8b818d8c8bc4838f92d9808d869bdfd0d18ad1d2c9c7d1a3c9ae83c9Xsituation+au+Coll%C3%A8ge+de+Chiconi+devient+difficilement+tenable+selon+des+professeurs.+Les+violences+s%27y+multiplient%2C+les+gendarmes+interviennent+quasi Read More : http%3A%2F%2Fwww.linfokwezi.fr%2Fca-chauffe-au-college-de-chiconi%2F\n",
      "1 http://actus.clicanoo.re/article/faits-divers/1413706-jug%C3%A9-pour-des-viols-sur-sa-belle-fille-laccus%C3%A9-continue-de-nier\n",
      "2 http://collectif-gtt.org/content/guy-rivo-randrianarisoa-mpandroba-koa-ireo-misandoka-ho-tompon-ny-tim-vid-o\n",
      "3 http://collectif-gtt.org/content/guy-rivo-randrianarisoa-mpandroba-koa-ireo-misandoka-ho-tompon-ny-tim-vid-o?mini=calendar/2016-09\n",
      "4 http://collectif-gtt.org/content/guy-rivo-randrianarisoa-mpandroba-koa-ireo-misandoka-ho-tompon-ny-tim-vid-o?mini=calendar/2016-10\n",
      "5 http://collectif-gtt.org/content/guy-rivo-randrianarisoa-mpandroba-koa-ireo-misandoka-ho-tompon-ny-tim-vid-o?mini=calendar/2016-11\n",
      "6 http://collectif-gtt.org/content/guy-rivo-randrianarisoa-mpandroba-koa-ireo-misandoka-ho-tompon-ny-tim-vid-o?mini=calendar/2016-12\n",
      "7 http://del.icio.us/post?url=http://www.gasykamanja.com/v2/actualite/news_mada-4-imerimandroso_ambohidrapeto__-2777675-detail.html&title=Imerimandroso Ambohidrapeto  : nirefotra ny basy, zazavavy iray  nataon’ny jiolahy takalon’aina\n",
      "8 http://del.icio.us/post?url=http://www.gasykamanja.com/v2/actualite/news_mada-4-jiolahy_nandeha_scooter_saika_hanafika-2777679-detail.html&title=Jiolahy nandeha scooter, saika hanafika teny Ambanidia : roa voatifitry ny zandary,  roa hafa azo sambo-belona\n",
      "9 http://evene.lefigaro.fr/citation/aura-hiver-scandale-logis-violence-banlieues-77463.php\n",
      "10 http://evene.lefigaro.fr/citation/etat-juif-personnage-mythique-conjoint-deux-roles-victime-heros-39683.php\n",
      "11 http://gtt-international.blogspot.com/search/label/violence\n",
      "12 http://juliette.abandokwe.over-blog.com/article-crimes-de-la-france-histoires-oubliees-histoire-occultee-120550690.html\n",
      "13 http://juliette.abandokwe.over-blog.com/pages/Valider_des_fraudes_electorales_un_crime_contre_lHumanite-2248375.html\n",
      "14 http://ledaily.mg/comment-madagascar-a-cree-son-phenomene-dahalo/\n",
      "15 http://ledaily.mg/insecurite-le-vrai-dahalo-est-en-col-blanc/\n",
      "16 http://ledaily.mg/madagascar-dahalo-magnifique-aventure-dans-le-grand-sud-de-lile/\n",
      "17 http://ledaily.mg/union-europeenne-3-millions-deuros-daide-en-faveur-des-victimes-des-inondations/\n",
      "18 http://leplus.nouvelobs.com/contribution/1220025-relaxes-apres-avoir-viole-une-handicapee-les-5-points-abjects-de-cette-affaire.html\n",
      "19 http://leplus.nouvelobs.com/contribution/1220025-relaxes-apres-avoir-viole-une-handicapee-les-5-points-abjects-de-cette-affaire.html#reaction\n",
      "20 http://leplus.nouvelobs.com/contribution/1510300-une-voleuse-poursuit-sa-victime-pour-atteinte-a-la-vie-privee-elle-va-sans-doute-gagner.html\n",
      "21 http://leplus.nouvelobs.com/contribution/1516036-violence-humiliation-mojito-le-phenomene-inquietant-et-malsain-ne-sur-snapchat.html\n",
      "22 http://leplus.nouvelobs.com/contribution/1516036-violence-humiliation-mojito-le-phenomene-inquietant-et-malsain-ne-sur-snapchat.html#reaction\n",
      "23 http://leplus.nouvelobs.com/contribution/1568769-ardisson-devoile-le-nom-du-violeur-de-flavie-flament-la-loi-la-condamne-au-silence.html\n",
      "24 http://leplus.nouvelobs.com/contribution/1568769-ardisson-devoile-le-nom-du-violeur-de-flavie-flament-la-loi-la-condamne-au-silence.html#reaction\n",
      "25 http://leplus.nouvelobs.com/contribution/930847-saisir-la-police-des-polices-en-ligne-les-victimes-d-abus-continueront-de-se-taire.html\n",
      "26 http://leplus.nouvelobs.com/correctionnalisationduviol\n",
      "27 http://matv.mg/incendie-a-ankasina-hery-rajaonarimampianina-au-chevet-des-victimes\n",
      "28 http://matv.mg/incendie-a-ankasina-hery-rajaonarimampianina-au-chevet-des-victimes/\n",
      "29 http://matv.mg/incendie-a-ankasina-hery-rajaonarimampianina-au-chevet-des-victimes/print/\n",
      "30 http://matv.mg/incendie-a-ankasina-hery-rajaonarimampianina-au-chevet-des-victimes/trackback/\n",
      "31 http://mgslalom.over-blog.com/article-solutions-pour-les-dahalo-112355127.html\n"
     ]
    }
   ],
   "source": [
    "if 'story' not in df.columns:\n",
    "    df['story']=''\n",
    "############################\n",
    "def append_story_todf():\n",
    "    for i , url in enumerate(df.link):\n",
    "        print i, url\n",
    "        try:\n",
    "            req = urllib2.Request(url.decode('utf-8'), headers={'User-Agent' : \"Magic Browser\"})\n",
    "            page = urllib2.urlopen( req )\n",
    "        except urllib2.HTTPError,e:\n",
    "            continue\n",
    "        except urllib2.URLError, e:\n",
    "            continue\n",
    "        except httplib.HTTPException, e:\n",
    "            continue\n",
    "        except Exception:\n",
    "            continue\n",
    "        mypage=page.read()\n",
    "        if len(mypage)==0:\n",
    "            print \"the above page does not exist\"\n",
    "            continue\n",
    "        else:\n",
    "            soup = BeautifulSoup(mypage)\n",
    "            #find all paragraphs from the current \"page\"\n",
    "            all_para=[]\n",
    "            components= soup.find_all('span') + soup.find_all('time') + soup.find_all('p') \n",
    "            components += soup.find_all('h1')+ soup.find_all('h2')\n",
    "            for para in components:\n",
    "                all_para.append(para.text)\n",
    "                #join in one paragraph\n",
    "                df.loc[i,'story']= ' '.join(all_para).strip() \n",
    "append_story_todf()\n",
    "#save data because It is lengthy task\n",
    "df.to_csv(\"data/potential_crimes_stories.csv\",sep=\";\",encoding=\"utf-8\")"
   ]
  },
  {
   "cell_type": "code",
   "execution_count": null,
   "metadata": {
    "collapsed": true
   },
   "outputs": [],
   "source": []
  }
 ],
 "metadata": {
  "kernelspec": {
   "display_name": "Python 2",
   "language": "python",
   "name": "python2"
  },
  "language_info": {
   "codemirror_mode": {
    "name": "ipython",
    "version": 2
   },
   "file_extension": ".py",
   "mimetype": "text/x-python",
   "name": "python",
   "nbconvert_exporter": "python",
   "pygments_lexer": "ipython2",
   "version": "2.7.10"
  }
 },
 "nbformat": 4,
 "nbformat_minor": 1
}
