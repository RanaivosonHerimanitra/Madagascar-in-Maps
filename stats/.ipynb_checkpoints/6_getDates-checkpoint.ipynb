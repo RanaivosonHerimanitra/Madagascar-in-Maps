{
 "cells": [
  {
   "cell_type": "code",
   "execution_count": 12,
   "metadata": {
    "collapsed": false
   },
   "outputs": [],
   "source": [
    "from datetime import date\n",
    "from itertools import *\n",
    "import httplib\n",
    "import urllib2\n",
    "import random\n",
    "import re\n",
    "import requests\n",
    "from httplib import IncompleteRead\n",
    "import json\n",
    "from bs4 import BeautifulSoup\n",
    "import pandas as pd\n",
    "import numpy as np\n",
    "import sys  "
   ]
  },
  {
   "cell_type": "code",
   "execution_count": 27,
   "metadata": {
    "collapsed": false
   },
   "outputs": [],
   "source": [
    "potential_crimes= pd.read_csv(\"data/potential_crimes_stories.csv\",sep=\";\",encoding=\"utf-8\")"
   ]
  },
  {
   "cell_type": "code",
   "execution_count": 19,
   "metadata": {
    "collapsed": true
   },
   "outputs": [],
   "source": [
    "years = range(2003,2017)\n",
    "months= [\"01\",\"02\",\"03\",\"04\",\"05\",\"06\",\"07\",\"08\",\"09\",\"10\",\"11\",\"12\"]\n",
    "days= range(1,31)\n",
    "date_combinations = product(years,months,days)\n",
    "conversion_mois={\"January\":'Janvier',\"February\":\"Février\",\"March\":\"mars\",\"April\":\"avril\",\n",
    "                \"May\":\"mai\",\"June\":\"juin\",\"July\":\"juillet\",\"August\":\"août\",\"September\":\"septembre\",\n",
    "                \"October\":\"octobre\",\"November\":\"novembre\",\"December\":\"décembre\"}"
   ]
  },
  {
   "cell_type": "code",
   "execution_count": 4,
   "metadata": {
    "collapsed": false
   },
   "outputs": [],
   "source": [
    "#initialization:\n",
    "def search_date_in (form=\"year/month\",var='link'):\n",
    "    if 'date' not in potential_crimes.columns:\n",
    "        potential_crimes['date']=''\n",
    "    for x in date_combinations:\n",
    "        y,m,d = x\n",
    "        if form==\"year/month\":\n",
    "            mymonth = str(y) + \"/\" + m\n",
    "        if form==\"year-month\":\n",
    "            mymonth = str(y) + \"-\" + m\n",
    "        if form==\"text\":\n",
    "            mymonth= date(y, int(m), d)\n",
    "            mymonth=mymonth.strftime(\"%d %B %Y\")\n",
    "            d0= d.split()[1]\n",
    "            mymonth=mymonth.replace(d0,conversion_mois[d0])\n",
    "        #retrieve index\n",
    "        i = [i for i,j in enumerate(potential_crimes[var]) if mymonth in j and potential_crimes.loc[i,var]!=[] ]\n",
    "        if len(i)==1:\n",
    "            #print mymonth,i ,  potential_crimes.loc[i, var]\n",
    "            potential_crimes.loc[i, 'date']=mymonth\n",
    "        else:\n",
    "            for i1 in i:\n",
    "                #print mymonth, i1 ,  potential_crimes.loc[i1,var]\n",
    "                potential_crimes.loc[i1, 'date']=mymonth"
   ]
  },
  {
   "cell_type": "code",
   "execution_count": 5,
   "metadata": {
    "collapsed": false
   },
   "outputs": [],
   "source": [
    "search_date_in('link')\n",
    "search_date_in(form=\"year/month\",'story')\n",
    "search_date_in(form=\"year-month\",'story')\n",
    "search_date_in(form=\"text\",'story')\n",
    "search_date_in(form=\"text\",'link')"
   ]
  }
 ],
 "metadata": {
  "kernelspec": {
   "display_name": "Python 2",
   "language": "python",
   "name": "python2"
  },
  "language_info": {
   "codemirror_mode": {
    "name": "ipython",
    "version": 2
   },
   "file_extension": ".py",
   "mimetype": "text/x-python",
   "name": "python",
   "nbconvert_exporter": "python",
   "pygments_lexer": "ipython2",
   "version": "2.7.10"
  }
 },
 "nbformat": 4,
 "nbformat_minor": 1
}
